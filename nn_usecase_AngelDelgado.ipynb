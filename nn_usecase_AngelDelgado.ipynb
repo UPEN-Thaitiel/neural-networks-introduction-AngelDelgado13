{
 "cells": [
  {
   "cell_type": "markdown",
   "id": "7a193077",
   "metadata": {},
   "source": [
    "### Angel Guillermo Lopez Delgado\n",
    "**Dataset:** EPL Player Stats 2024-2025"
   ]
  },
  {
   "cell_type": "markdown",
   "id": "73eadc91",
   "metadata": {},
   "source": [
    "Importar librerías"
   ]
  },
  {
   "cell_type": "code",
   "execution_count": 10,
   "id": "7ce58ebd",
   "metadata": {},
   "outputs": [],
   "source": [
    "\n",
    "import numpy as np\n",
    "import pandas as pd\n",
    "from sklearn.model_selection import train_test_split, GridSearchCV\n",
    "from sklearn.preprocessing import StandardScaler, LabelEncoder\n",
    "from sklearn.neural_network import MLPClassifier\n",
    "from sklearn.metrics import accuracy_score, classification_report, confusion_matrix\n",
    "from sklearn.tree import DecisionTreeClassifier\n",
    "import seaborn as sns\n",
    "import matplotlib.pyplot as plt"
   ]
  },
  {
   "cell_type": "markdown",
   "id": "25dcaf3e",
   "metadata": {},
   "source": [
    "Cargar datos"
   ]
  },
  {
   "cell_type": "code",
   "execution_count": 11,
   "id": "89f80ce7",
   "metadata": {},
   "outputs": [
    {
     "data": {
      "text/html": [
       "<div>\n",
       "<style scoped>\n",
       "    .dataframe tbody tr th:only-of-type {\n",
       "        vertical-align: middle;\n",
       "    }\n",
       "\n",
       "    .dataframe tbody tr th {\n",
       "        vertical-align: top;\n",
       "    }\n",
       "\n",
       "    .dataframe thead th {\n",
       "        text-align: right;\n",
       "    }\n",
       "</style>\n",
       "<table border=\"1\" class=\"dataframe\">\n",
       "  <thead>\n",
       "    <tr style=\"text-align: right;\">\n",
       "      <th></th>\n",
       "      <th>Player Name</th>\n",
       "      <th>Club</th>\n",
       "      <th>Nationality</th>\n",
       "      <th>Position</th>\n",
       "      <th>Appearances</th>\n",
       "      <th>Minutes</th>\n",
       "      <th>Goals</th>\n",
       "      <th>Assists</th>\n",
       "      <th>Shots</th>\n",
       "      <th>Shots On Target</th>\n",
       "      <th>...</th>\n",
       "      <th>Fouls</th>\n",
       "      <th>Yellow Cards</th>\n",
       "      <th>Red Cards</th>\n",
       "      <th>Saves</th>\n",
       "      <th>Saves %</th>\n",
       "      <th>Penalties Saved</th>\n",
       "      <th>Clearances Off Line</th>\n",
       "      <th>Punches</th>\n",
       "      <th>High Claims</th>\n",
       "      <th>Goals Prevented</th>\n",
       "    </tr>\n",
       "  </thead>\n",
       "  <tbody>\n",
       "    <tr>\n",
       "      <th>0</th>\n",
       "      <td>Ben White</td>\n",
       "      <td>Arsenal</td>\n",
       "      <td>England</td>\n",
       "      <td>DEF</td>\n",
       "      <td>17</td>\n",
       "      <td>1198</td>\n",
       "      <td>0</td>\n",
       "      <td>2</td>\n",
       "      <td>9</td>\n",
       "      <td>12</td>\n",
       "      <td>...</td>\n",
       "      <td>10</td>\n",
       "      <td>2</td>\n",
       "      <td>0</td>\n",
       "      <td>0</td>\n",
       "      <td>0%</td>\n",
       "      <td>0</td>\n",
       "      <td>0</td>\n",
       "      <td>0</td>\n",
       "      <td>0</td>\n",
       "      <td>0.0</td>\n",
       "    </tr>\n",
       "    <tr>\n",
       "      <th>1</th>\n",
       "      <td>Bukayo Saka</td>\n",
       "      <td>Arsenal</td>\n",
       "      <td>England</td>\n",
       "      <td>MID</td>\n",
       "      <td>25</td>\n",
       "      <td>1735</td>\n",
       "      <td>6</td>\n",
       "      <td>10</td>\n",
       "      <td>67</td>\n",
       "      <td>2</td>\n",
       "      <td>...</td>\n",
       "      <td>15</td>\n",
       "      <td>3</td>\n",
       "      <td>0</td>\n",
       "      <td>0</td>\n",
       "      <td>0%</td>\n",
       "      <td>0</td>\n",
       "      <td>0</td>\n",
       "      <td>0</td>\n",
       "      <td>0</td>\n",
       "      <td>0.0</td>\n",
       "    </tr>\n",
       "    <tr>\n",
       "      <th>2</th>\n",
       "      <td>David Raya</td>\n",
       "      <td>Arsenal</td>\n",
       "      <td>Spain</td>\n",
       "      <td>GKP</td>\n",
       "      <td>38</td>\n",
       "      <td>3420</td>\n",
       "      <td>0</td>\n",
       "      <td>0</td>\n",
       "      <td>0</td>\n",
       "      <td>0</td>\n",
       "      <td>...</td>\n",
       "      <td>1</td>\n",
       "      <td>3</td>\n",
       "      <td>0</td>\n",
       "      <td>86</td>\n",
       "      <td>72%</td>\n",
       "      <td>0</td>\n",
       "      <td>0</td>\n",
       "      <td>8</td>\n",
       "      <td>53</td>\n",
       "      <td>2.1</td>\n",
       "    </tr>\n",
       "    <tr>\n",
       "      <th>3</th>\n",
       "      <td>Declan Rice</td>\n",
       "      <td>Arsenal</td>\n",
       "      <td>England</td>\n",
       "      <td>MID</td>\n",
       "      <td>35</td>\n",
       "      <td>2833</td>\n",
       "      <td>4</td>\n",
       "      <td>7</td>\n",
       "      <td>48</td>\n",
       "      <td>18</td>\n",
       "      <td>...</td>\n",
       "      <td>21</td>\n",
       "      <td>5</td>\n",
       "      <td>1</td>\n",
       "      <td>0</td>\n",
       "      <td>0%</td>\n",
       "      <td>0</td>\n",
       "      <td>0</td>\n",
       "      <td>0</td>\n",
       "      <td>0</td>\n",
       "      <td>0.0</td>\n",
       "    </tr>\n",
       "    <tr>\n",
       "      <th>4</th>\n",
       "      <td>Ethan Nwaneri</td>\n",
       "      <td>Arsenal</td>\n",
       "      <td>England</td>\n",
       "      <td>MID</td>\n",
       "      <td>26</td>\n",
       "      <td>889</td>\n",
       "      <td>4</td>\n",
       "      <td>0</td>\n",
       "      <td>24</td>\n",
       "      <td>0</td>\n",
       "      <td>...</td>\n",
       "      <td>9</td>\n",
       "      <td>1</td>\n",
       "      <td>0</td>\n",
       "      <td>0</td>\n",
       "      <td>0%</td>\n",
       "      <td>0</td>\n",
       "      <td>0</td>\n",
       "      <td>0</td>\n",
       "      <td>0</td>\n",
       "      <td>0.0</td>\n",
       "    </tr>\n",
       "  </tbody>\n",
       "</table>\n",
       "<p>5 rows × 57 columns</p>\n",
       "</div>"
      ],
      "text/plain": [
       "     Player Name     Club Nationality Position  Appearances  Minutes  Goals  \\\n",
       "0      Ben White  Arsenal     England      DEF           17     1198      0   \n",
       "1    Bukayo Saka  Arsenal     England      MID           25     1735      6   \n",
       "2     David Raya  Arsenal       Spain      GKP           38     3420      0   \n",
       "3    Declan Rice  Arsenal     England      MID           35     2833      4   \n",
       "4  Ethan Nwaneri  Arsenal     England      MID           26      889      4   \n",
       "\n",
       "   Assists  Shots  Shots On Target  ... Fouls  Yellow Cards  Red Cards  Saves  \\\n",
       "0        2      9               12  ...    10             2          0      0   \n",
       "1       10     67                2  ...    15             3          0      0   \n",
       "2        0      0                0  ...     1             3          0     86   \n",
       "3        7     48               18  ...    21             5          1      0   \n",
       "4        0     24                0  ...     9             1          0      0   \n",
       "\n",
       "   Saves %  Penalties Saved  Clearances Off Line Punches  High Claims  \\\n",
       "0       0%                0                    0       0            0   \n",
       "1       0%                0                    0       0            0   \n",
       "2      72%                0                    0       8           53   \n",
       "3       0%                0                    0       0            0   \n",
       "4       0%                0                    0       0            0   \n",
       "\n",
       "   Goals Prevented  \n",
       "0              0.0  \n",
       "1              0.0  \n",
       "2              2.1  \n",
       "3              0.0  \n",
       "4              0.0  \n",
       "\n",
       "[5 rows x 57 columns]"
      ]
     },
     "execution_count": 11,
     "metadata": {},
     "output_type": "execute_result"
    }
   ],
   "source": [
    "df = pd.read_csv('epl_player_stats_24_25.csv')\n",
    "df.head()"
   ]
  },
  {
   "cell_type": "markdown",
   "id": "96031d5d",
   "metadata": {},
   "source": [
    "Preprocesamiento"
   ]
  },
  {
   "cell_type": "markdown",
   "id": "4e3bef97",
   "metadata": {},
   "source": [
    "Eliminar columnas no numéricas irrelevantes"
   ]
  },
  {
   "cell_type": "code",
   "execution_count": 12,
   "id": "bf3bc408",
   "metadata": {},
   "outputs": [],
   "source": [
    "df = df.drop(['Player Name', 'Club', 'Nationality'], axis=1)\n",
    "for col in df.columns:\n",
    "    if df[col].dtype == 'object' and df[col].str.contains('%').any():\n",
    "        df[col] = df[col].str.replace('%', '', regex=False).astype(float)\n",
    "\n",
    "X = df.drop('Position', axis=1)\n",
    "X = X.apply(pd.to_numeric, errors='coerce')  # convierte errores a NaN\n",
    "X = X.fillna(0)  # reemplazar NaN con 0"
   ]
  },
  {
   "cell_type": "markdown",
   "id": "03b937ba",
   "metadata": {},
   "source": [
    "variable objetivo"
   ]
  },
  {
   "cell_type": "code",
   "execution_count": 13,
   "id": "eaca6ff6",
   "metadata": {},
   "outputs": [],
   "source": [
    "le = LabelEncoder()\n",
    "df['Position'] = le.fit_transform(df['Position'])\n",
    "y = df['Position']\n",
    "\n",
    "X_train, X_test, y_train, y_test = train_test_split(X, y, test_size=0.2, random_state=42)\n"
   ]
  },
  {
   "cell_type": "markdown",
   "id": "de2e7b2d",
   "metadata": {},
   "source": [
    "Escalar"
   ]
  },
  {
   "cell_type": "code",
   "execution_count": 14,
   "id": "f6ad1c69",
   "metadata": {},
   "outputs": [],
   "source": [
    "scaler = StandardScaler()\n",
    "X_train_scaled = scaler.fit_transform(X_train)\n",
    "X_test_scaled = scaler.transform(X_test)"
   ]
  },
  {
   "cell_type": "markdown",
   "id": "02f6279a",
   "metadata": {},
   "source": [
    "MLPClassifier"
   ]
  },
  {
   "cell_type": "code",
   "execution_count": 15,
   "id": "fa88999f",
   "metadata": {},
   "outputs": [
    {
     "name": "stdout",
     "output_type": "stream",
     "text": [
      "Mejores hiperparámetros: {'activation': 'tanh', 'alpha': 0.0001, 'hidden_layer_sizes': (50,)}\n"
     ]
    }
   ],
   "source": [
    "param_grid = {\n",
    "    'hidden_layer_sizes': [(50,), (100,), (50, 50)],\n",
    "    'alpha': [0.0001, 0.001, 0.01],\n",
    "    'activation': ['relu', 'tanh']\n",
    "}\n",
    "\n",
    "mlp = MLPClassifier(max_iter=1000, random_state=42)\n",
    "grid_search = GridSearchCV(mlp, param_grid, cv=5, n_jobs=-1)\n",
    "grid_search.fit(X_train_scaled, y_train)\n",
    "\n",
    "print(\"Mejores hiperparámetros:\", grid_search.best_params_)\n"
   ]
  },
  {
   "cell_type": "markdown",
   "id": "05bff7bf",
   "metadata": {},
   "source": [
    "Evaluación"
   ]
  },
  {
   "cell_type": "code",
   "execution_count": 16,
   "id": "735e1179",
   "metadata": {},
   "outputs": [
    {
     "name": "stdout",
     "output_type": "stream",
     "text": [
      "Precisión en conjunto de prueba: 0.7257\n",
      "Reporte de clasificación:                precision    recall  f1-score   support\n",
      "\n",
      "         DEF       0.89      0.79      0.84        43\n",
      "         FWD       0.47      0.56      0.51        16\n",
      "         GKP       0.88      0.88      0.88         8\n",
      "         MID       0.67      0.70      0.68        46\n",
      "\n",
      "    accuracy                           0.73       113\n",
      "   macro avg       0.73      0.73      0.73       113\n",
      "weighted avg       0.74      0.73      0.73       113\n",
      "\n"
     ]
    }
   ],
   "source": [
    "y_pred = grid_search.predict(X_test_scaled)\n",
    "accuracy = accuracy_score(y_test, y_pred)\n",
    "print(f'Precisión en conjunto de prueba: {accuracy:.4f}')\n",
    "print(\"Reporte de clasificación: \", classification_report(y_test, y_pred, target_names=le.classes_))"
   ]
  },
  {
   "cell_type": "markdown",
   "id": "8a1b0480",
   "metadata": {},
   "source": [
    "Matriz de confusión"
   ]
  },
  {
   "cell_type": "code",
   "execution_count": 17,
   "id": "c481fdaa",
   "metadata": {},
   "outputs": [
    {
     "data": {
      "image/png": "[encoded data removed]",
      "text/plain": [
       "<Figure size 640x480 with 2 Axes>"
      ]
     },
     "metadata": {},
     "output_type": "display_data"
    }
   ],
   "source": [
    "conf_mat = confusion_matrix(y_test, y_pred)\n",
    "sns.heatmap(conf_mat, annot=True, fmt='d', cmap='Blues', xticklabels=le.classes_, yticklabels=le.classes_)\n",
    "plt.title('Matriz de Confusión')\n",
    "plt.xlabel('Predicción')\n",
    "plt.ylabel('Real')\n",
    "plt.show()"
   ]
  },
  {
   "cell_type": "markdown",
   "id": "0d048bd4",
   "metadata": {},
   "source": [
    "Comparación con modelo"
   ]
  },
  {
   "cell_type": "code",
   "execution_count": 18,
   "id": "25b51667",
   "metadata": {},
   "outputs": [
    {
     "name": "stdout",
     "output_type": "stream",
     "text": [
      "Precisión Árbol de Decisión: 0.6903\n"
     ]
    }
   ],
   "source": [
    "tree = DecisionTreeClassifier(random_state=42)\n",
    "tree.fit(X_train_scaled, y_train)\n",
    "y_pred_tree = tree.predict(X_test_scaled)\n",
    "accuracy_tree = accuracy_score(y_test, y_pred_tree)\n",
    "print(f'Precisión Árbol de Decisión: {accuracy_tree:.4f}')"
   ]
  },
  {
   "cell_type": "markdown",
   "id": "5c5727fd",
   "metadata": {},
   "source": [
    "Análisis de errores"
   ]
  },
  {
   "cell_type": "code",
   "execution_count": 19,
   "id": "2dec9483",
   "metadata": {},
   "outputs": [],
   "source": [
    "error_mask = y_pred != y_test\n",
    "X_errors = pd.DataFrame(X_test_scaled[error_mask], columns=X.columns)\n",
    "y_true_errors = y_test[error_mask].reset_index(drop=True)\n",
    "y_pred_errors = pd.Series(y_pred[error_mask]).reset_index(drop=True)\n",
    "\n",
    "y_true_errors_labels = le.inverse_transform(y_true_errors)\n",
    "y_pred_errors_labels = le.inverse_transform(y_pred_errors)"
   ]
  },
  {
   "cell_type": "markdown",
   "id": "1e87023e",
   "metadata": {},
   "source": [
    "Crear DataFrame con errores"
   ]
  },
  {
   "cell_type": "code",
   "execution_count": 20,
   "id": "717d9537",
   "metadata": {},
   "outputs": [
    {
     "name": "stdout",
     "output_type": "stream",
     "text": [
      "Primeros 10 errores de clasificación:\n"
     ]
    },
    {
     "data": {
      "text/html": [
       "<div>\n",
       "<style scoped>\n",
       "    .dataframe tbody tr th:only-of-type {\n",
       "        vertical-align: middle;\n",
       "    }\n",
       "\n",
       "    .dataframe tbody tr th {\n",
       "        vertical-align: top;\n",
       "    }\n",
       "\n",
       "    .dataframe thead th {\n",
       "        text-align: right;\n",
       "    }\n",
       "</style>\n",
       "<table border=\"1\" class=\"dataframe\">\n",
       "  <thead>\n",
       "    <tr style=\"text-align: right;\">\n",
       "      <th></th>\n",
       "      <th>Appearances</th>\n",
       "      <th>Minutes</th>\n",
       "      <th>Goals</th>\n",
       "      <th>Assists</th>\n",
       "      <th>Shots</th>\n",
       "      <th>Shots On Target</th>\n",
       "      <th>Conversion %</th>\n",
       "      <th>Big Chances Missed</th>\n",
       "      <th>Hit Woodwork</th>\n",
       "      <th>Offsides</th>\n",
       "      <th>...</th>\n",
       "      <th>Red Cards</th>\n",
       "      <th>Saves</th>\n",
       "      <th>Saves %</th>\n",
       "      <th>Penalties Saved</th>\n",
       "      <th>Clearances Off Line</th>\n",
       "      <th>Punches</th>\n",
       "      <th>High Claims</th>\n",
       "      <th>Goals Prevented</th>\n",
       "      <th>Real Position</th>\n",
       "      <th>Predicted Position</th>\n",
       "    </tr>\n",
       "  </thead>\n",
       "  <tbody>\n",
       "    <tr>\n",
       "      <th>0</th>\n",
       "      <td>-0.621800</td>\n",
       "      <td>-0.414448</td>\n",
       "      <td>0.076104</td>\n",
       "      <td>-0.51606</td>\n",
       "      <td>0.210659</td>\n",
       "      <td>-0.154028</td>\n",
       "      <td>0.823060</td>\n",
       "      <td>-0.313436</td>\n",
       "      <td>-0.500523</td>\n",
       "      <td>-0.319122</td>\n",
       "      <td>...</td>\n",
       "      <td>-0.302907</td>\n",
       "      <td>-0.227240</td>\n",
       "      <td>-0.226655</td>\n",
       "      <td>-0.143019</td>\n",
       "      <td>-0.313119</td>\n",
       "      <td>-0.17186</td>\n",
       "      <td>-0.215075</td>\n",
       "      <td>-0.123487</td>\n",
       "      <td>FWD</td>\n",
       "      <td>MID</td>\n",
       "    </tr>\n",
       "    <tr>\n",
       "      <th>1</th>\n",
       "      <td>-1.593170</td>\n",
       "      <td>-1.262176</td>\n",
       "      <td>-0.518167</td>\n",
       "      <td>-0.51606</td>\n",
       "      <td>-0.783617</td>\n",
       "      <td>-0.586945</td>\n",
       "      <td>-0.625655</td>\n",
       "      <td>-0.567009</td>\n",
       "      <td>-0.500523</td>\n",
       "      <td>-0.554403</td>\n",
       "      <td>...</td>\n",
       "      <td>-0.302907</td>\n",
       "      <td>-0.227240</td>\n",
       "      <td>-0.226655</td>\n",
       "      <td>-0.143019</td>\n",
       "      <td>-0.313119</td>\n",
       "      <td>-0.17186</td>\n",
       "      <td>-0.215075</td>\n",
       "      <td>-0.123487</td>\n",
       "      <td>DEF</td>\n",
       "      <td>MID</td>\n",
       "    </tr>\n",
       "    <tr>\n",
       "      <th>2</th>\n",
       "      <td>-1.512222</td>\n",
       "      <td>-1.245371</td>\n",
       "      <td>-0.518167</td>\n",
       "      <td>-0.51606</td>\n",
       "      <td>-0.783617</td>\n",
       "      <td>-0.586945</td>\n",
       "      <td>-0.625655</td>\n",
       "      <td>-0.567009</td>\n",
       "      <td>-0.500523</td>\n",
       "      <td>-0.554403</td>\n",
       "      <td>...</td>\n",
       "      <td>-0.302907</td>\n",
       "      <td>-0.227240</td>\n",
       "      <td>-0.226655</td>\n",
       "      <td>-0.143019</td>\n",
       "      <td>-0.313119</td>\n",
       "      <td>-0.17186</td>\n",
       "      <td>-0.215075</td>\n",
       "      <td>-0.123487</td>\n",
       "      <td>MID</td>\n",
       "      <td>FWD</td>\n",
       "    </tr>\n",
       "    <tr>\n",
       "      <th>3</th>\n",
       "      <td>0.511466</td>\n",
       "      <td>-0.416316</td>\n",
       "      <td>0.373239</td>\n",
       "      <td>-0.51606</td>\n",
       "      <td>0.297118</td>\n",
       "      <td>1.902328</td>\n",
       "      <td>1.744969</td>\n",
       "      <td>0.954428</td>\n",
       "      <td>-0.500523</td>\n",
       "      <td>0.151439</td>\n",
       "      <td>...</td>\n",
       "      <td>-0.302907</td>\n",
       "      <td>-0.227240</td>\n",
       "      <td>-0.226655</td>\n",
       "      <td>-0.143019</td>\n",
       "      <td>-0.313119</td>\n",
       "      <td>-0.17186</td>\n",
       "      <td>-0.215075</td>\n",
       "      <td>-0.123487</td>\n",
       "      <td>MID</td>\n",
       "      <td>FWD</td>\n",
       "    </tr>\n",
       "    <tr>\n",
       "      <th>4</th>\n",
       "      <td>-0.702747</td>\n",
       "      <td>-1.137071</td>\n",
       "      <td>-0.518167</td>\n",
       "      <td>-0.51606</td>\n",
       "      <td>-0.610699</td>\n",
       "      <td>-0.586945</td>\n",
       "      <td>-0.625655</td>\n",
       "      <td>-0.567009</td>\n",
       "      <td>0.480852</td>\n",
       "      <td>-0.554403</td>\n",
       "      <td>...</td>\n",
       "      <td>-0.302907</td>\n",
       "      <td>-0.227240</td>\n",
       "      <td>-0.226655</td>\n",
       "      <td>-0.143019</td>\n",
       "      <td>-0.313119</td>\n",
       "      <td>-0.17186</td>\n",
       "      <td>-0.215075</td>\n",
       "      <td>-0.123487</td>\n",
       "      <td>MID</td>\n",
       "      <td>FWD</td>\n",
       "    </tr>\n",
       "    <tr>\n",
       "      <th>5</th>\n",
       "      <td>-1.350327</td>\n",
       "      <td>-1.246304</td>\n",
       "      <td>-0.518167</td>\n",
       "      <td>-0.51606</td>\n",
       "      <td>-0.783617</td>\n",
       "      <td>-0.586945</td>\n",
       "      <td>-0.625655</td>\n",
       "      <td>-0.567009</td>\n",
       "      <td>-0.500523</td>\n",
       "      <td>-0.554403</td>\n",
       "      <td>...</td>\n",
       "      <td>-0.302907</td>\n",
       "      <td>-0.227240</td>\n",
       "      <td>-0.226655</td>\n",
       "      <td>-0.143019</td>\n",
       "      <td>-0.313119</td>\n",
       "      <td>-0.17186</td>\n",
       "      <td>-0.215075</td>\n",
       "      <td>-0.123487</td>\n",
       "      <td>MID</td>\n",
       "      <td>FWD</td>\n",
       "    </tr>\n",
       "    <tr>\n",
       "      <th>6</th>\n",
       "      <td>0.106728</td>\n",
       "      <td>-0.276273</td>\n",
       "      <td>-0.518167</td>\n",
       "      <td>-0.51606</td>\n",
       "      <td>-0.481011</td>\n",
       "      <td>-0.478716</td>\n",
       "      <td>-0.625655</td>\n",
       "      <td>-0.567009</td>\n",
       "      <td>-0.500523</td>\n",
       "      <td>-0.554403</td>\n",
       "      <td>...</td>\n",
       "      <td>-0.302907</td>\n",
       "      <td>-0.227240</td>\n",
       "      <td>-0.226655</td>\n",
       "      <td>-0.143019</td>\n",
       "      <td>-0.313119</td>\n",
       "      <td>-0.17186</td>\n",
       "      <td>-0.215075</td>\n",
       "      <td>-0.123487</td>\n",
       "      <td>DEF</td>\n",
       "      <td>MID</td>\n",
       "    </tr>\n",
       "    <tr>\n",
       "      <th>7</th>\n",
       "      <td>-1.026537</td>\n",
       "      <td>-0.937276</td>\n",
       "      <td>-0.518167</td>\n",
       "      <td>-0.51606</td>\n",
       "      <td>-0.783617</td>\n",
       "      <td>-0.586945</td>\n",
       "      <td>-0.625655</td>\n",
       "      <td>-0.567009</td>\n",
       "      <td>-0.500523</td>\n",
       "      <td>-0.554403</td>\n",
       "      <td>...</td>\n",
       "      <td>-0.302907</td>\n",
       "      <td>-0.227240</td>\n",
       "      <td>-0.226655</td>\n",
       "      <td>-0.143019</td>\n",
       "      <td>-0.313119</td>\n",
       "      <td>-0.17186</td>\n",
       "      <td>-0.215075</td>\n",
       "      <td>-0.123487</td>\n",
       "      <td>DEF</td>\n",
       "      <td>MID</td>\n",
       "    </tr>\n",
       "    <tr>\n",
       "      <th>8</th>\n",
       "      <td>-0.621800</td>\n",
       "      <td>-0.174508</td>\n",
       "      <td>-0.518167</td>\n",
       "      <td>-0.51606</td>\n",
       "      <td>-0.783617</td>\n",
       "      <td>-0.586945</td>\n",
       "      <td>-0.625655</td>\n",
       "      <td>-0.567009</td>\n",
       "      <td>-0.500523</td>\n",
       "      <td>-0.554403</td>\n",
       "      <td>...</td>\n",
       "      <td>-0.302907</td>\n",
       "      <td>2.042354</td>\n",
       "      <td>3.817115</td>\n",
       "      <td>-0.143019</td>\n",
       "      <td>-0.313119</td>\n",
       "      <td>-0.17186</td>\n",
       "      <td>2.993185</td>\n",
       "      <td>-3.569254</td>\n",
       "      <td>MID</td>\n",
       "      <td>GKP</td>\n",
       "    </tr>\n",
       "    <tr>\n",
       "      <th>9</th>\n",
       "      <td>1.078098</td>\n",
       "      <td>1.374368</td>\n",
       "      <td>0.967510</td>\n",
       "      <td>-0.51606</td>\n",
       "      <td>0.902329</td>\n",
       "      <td>0.711806</td>\n",
       "      <td>0.954761</td>\n",
       "      <td>0.954428</td>\n",
       "      <td>0.480852</td>\n",
       "      <td>-0.319122</td>\n",
       "      <td>...</td>\n",
       "      <td>2.860006</td>\n",
       "      <td>-0.227240</td>\n",
       "      <td>-0.226655</td>\n",
       "      <td>-0.143019</td>\n",
       "      <td>-0.313119</td>\n",
       "      <td>-0.17186</td>\n",
       "      <td>-0.215075</td>\n",
       "      <td>-0.123487</td>\n",
       "      <td>MID</td>\n",
       "      <td>DEF</td>\n",
       "    </tr>\n",
       "  </tbody>\n",
       "</table>\n",
       "<p>10 rows × 55 columns</p>\n",
       "</div>"
      ],
      "text/plain": [
       "   Appearances   Minutes     Goals  Assists     Shots  Shots On Target  \\\n",
       "0    -0.621800 -0.414448  0.076104 -0.51606  0.210659        -0.154028   \n",
       "1    -1.593170 -1.262176 -0.518167 -0.51606 -0.783617        -0.586945   \n",
       "2    -1.512222 -1.245371 -0.518167 -0.51606 -0.783617        -0.586945   \n",
       "3     0.511466 -0.416316  0.373239 -0.51606  0.297118         1.902328   \n",
       "4    -0.702747 -1.137071 -0.518167 -0.51606 -0.610699        -0.586945   \n",
       "5    -1.350327 -1.246304 -0.518167 -0.51606 -0.783617        -0.586945   \n",
       "6     0.106728 -0.276273 -0.518167 -0.51606 -0.481011        -0.478716   \n",
       "7    -1.026537 -0.937276 -0.518167 -0.51606 -0.783617        -0.586945   \n",
       "8    -0.621800 -0.174508 -0.518167 -0.51606 -0.783617        -0.586945   \n",
       "9     1.078098  1.374368  0.967510 -0.51606  0.902329         0.711806   \n",
       "\n",
       "   Conversion %  Big Chances Missed  Hit Woodwork  Offsides  ...  Red Cards  \\\n",
       "0      0.823060           -0.313436     -0.500523 -0.319122  ...  -0.302907   \n",
       "1     -0.625655           -0.567009     -0.500523 -0.554403  ...  -0.302907   \n",
       "2     -0.625655           -0.567009     -0.500523 -0.554403  ...  -0.302907   \n",
       "3      1.744969            0.954428     -0.500523  0.151439  ...  -0.302907   \n",
       "4     -0.625655           -0.567009      0.480852 -0.554403  ...  -0.302907   \n",
       "5     -0.625655           -0.567009     -0.500523 -0.554403  ...  -0.302907   \n",
       "6     -0.625655           -0.567009     -0.500523 -0.554403  ...  -0.302907   \n",
       "7     -0.625655           -0.567009     -0.500523 -0.554403  ...  -0.302907   \n",
       "8     -0.625655           -0.567009     -0.500523 -0.554403  ...  -0.302907   \n",
       "9      0.954761            0.954428      0.480852 -0.319122  ...   2.860006   \n",
       "\n",
       "      Saves   Saves %  Penalties Saved  Clearances Off Line  Punches  \\\n",
       "0 -0.227240 -0.226655        -0.143019            -0.313119 -0.17186   \n",
       "1 -0.227240 -0.226655        -0.143019            -0.313119 -0.17186   \n",
       "2 -0.227240 -0.226655        -0.143019            -0.313119 -0.17186   \n",
       "3 -0.227240 -0.226655        -0.143019            -0.313119 -0.17186   \n",
       "4 -0.227240 -0.226655        -0.143019            -0.313119 -0.17186   \n",
       "5 -0.227240 -0.226655        -0.143019            -0.313119 -0.17186   \n",
       "6 -0.227240 -0.226655        -0.143019            -0.313119 -0.17186   \n",
       "7 -0.227240 -0.226655        -0.143019            -0.313119 -0.17186   \n",
       "8  2.042354  3.817115        -0.143019            -0.313119 -0.17186   \n",
       "9 -0.227240 -0.226655        -0.143019            -0.313119 -0.17186   \n",
       "\n",
       "   High Claims  Goals Prevented  Real Position  Predicted Position  \n",
       "0    -0.215075        -0.123487            FWD                 MID  \n",
       "1    -0.215075        -0.123487            DEF                 MID  \n",
       "2    -0.215075        -0.123487            MID                 FWD  \n",
       "3    -0.215075        -0.123487            MID                 FWD  \n",
       "4    -0.215075        -0.123487            MID                 FWD  \n",
       "5    -0.215075        -0.123487            MID                 FWD  \n",
       "6    -0.215075        -0.123487            DEF                 MID  \n",
       "7    -0.215075        -0.123487            DEF                 MID  \n",
       "8     2.993185        -3.569254            MID                 GKP  \n",
       "9    -0.215075        -0.123487            MID                 DEF  \n",
       "\n",
       "[10 rows x 55 columns]"
      ]
     },
     "execution_count": 20,
     "metadata": {},
     "output_type": "execute_result"
    }
   ],
   "source": [
    "error_df = X_errors.copy()\n",
    "error_df[\"Real Position\"] = y_true_errors_labels\n",
    "error_df[\"Predicted Position\"] = y_pred_errors_labels\n",
    "error_df.reset_index(drop=True, inplace=True)\n",
    "print(\"Primeros 10 errores de clasificación:\")\n",
    "error_df.head(10)"
   ]
  },
  {
   "cell_type": "markdown",
   "id": "92692cdc",
   "metadata": {},
   "source": [
    "Gráfico de errores"
   ]
  },
  {
   "cell_type": "code",
   "execution_count": 21,
   "id": "7838375e",
   "metadata": {},
   "outputs": [
    {
     "data": {
      "image/png": "[encoded data removed]",
      "text/plain": [
       "<Figure size 800x500 with 1 Axes>"
      ]
     },
     "metadata": {},
     "output_type": "display_data"
    }
   ],
   "source": [
    "plt.figure(figsize=(8, 5))\n",
    "sns.countplot(x=\"Real Position\", hue=\"Predicted Position\", data=error_df)\n",
    "plt.title(\"Errores de clasificación por posición\")\n",
    "plt.xlabel(\"Posición real\")\n",
    "plt.ylabel(\"Conteo de errores\")\n",
    "plt.show()\n"
   ]
  },
  {
   "cell_type": "markdown",
   "id": "4a245559",
   "metadata": {},
   "source": [
    "Visualización de errores"
   ]
  },
  {
   "cell_type": "code",
   "execution_count": 22,
   "id": "db2f2566",
   "metadata": {},
   "outputs": [],
   "source": [
    "mask = y_test.isin([1, 2]) "
   ]
  },
  {
   "cell_type": "markdown",
   "id": "325065fe",
   "metadata": {},
   "source": [
    "Filtrar subconjunto"
   ]
  },
  {
   "cell_type": "code",
   "execution_count": 23,
   "id": "026cf221",
   "metadata": {},
   "outputs": [],
   "source": [
    "X_sel = pd.DataFrame(X_test_scaled[mask], columns=X.columns).reset_index(drop=True)\n",
    "y_true_sel = y_test[mask].reset_index(drop=True)\n",
    "y_pred_sel = pd.Series(y_pred[mask]).reset_index(drop=True)\n",
    "\n",
    "error_mask = y_pred_sel != y_true_sel\n",
    "X_sel = X_sel[error_mask].reset_index(drop=True)\n",
    "y_true_sel = y_true_sel[error_mask].reset_index(drop=True)\n",
    "y_pred_sel = y_pred_sel[error_mask].reset_index(drop=True)\n",
    "\n",
    "y_true_sel_labels = le.inverse_transform(y_true_sel)\n",
    "y_pred_sel_labels = le.inverse_transform(y_pred_sel)"
   ]
  },
  {
   "cell_type": "markdown",
   "id": "382d2878",
   "metadata": {},
   "source": [
    "Visualizar errores (como texto)"
   ]
  },
  {
   "cell_type": "code",
   "execution_count": 24,
   "id": "feb29e43",
   "metadata": {},
   "outputs": [
    {
     "data": {
      "image/png": "[encoded data removed]",
      "text/plain": [
       "<Figure size 1200x2000 with 10 Axes>"
      ]
     },
     "metadata": {},
     "output_type": "display_data"
    }
   ],
   "source": [
    "fig, axes = plt.subplots(5, 2, figsize=(12, 20))  # 10 errores por ejemplo\n",
    "axes = axes.flat\n",
    "\n",
    "for i, ax in enumerate(axes):\n",
    "    if i >= len(X_sel):\n",
    "        ax.axis('off')\n",
    "        continue\n",
    "    \n",
    "    stats = X_sel.iloc[i]\n",
    "    true_label = y_true_sel_labels[i]\n",
    "    pred_label = y_pred_sel_labels[i]\n",
    "    \n",
    "    # Texto a mostrar\n",
    "    text = f\"True: {true_label}\\nPred: {pred_label}\\n\"\n",
    "    text += \"\\n\".join([f\"{col}: {val:.2f}\" for col, val in stats.items()][:5])  # muestra 5 stats\n",
    "    \n",
    "    color = 'red' if true_label != pred_label else 'green'\n",
    "    ax.text(0.1, 0.5, text, fontsize=10, color=color, va='center', ha='left', wrap=True)\n",
    "    ax.set_axis_off()\n",
    "\n",
    "plt.tight_layout()\n",
    "plt.show()"
   ]
  }
 ],
 "metadata": {
  "kernelspec": {
   "display_name": "Python 3",
   "language": "python",
   "name": "python3"
  },
  "language_info": {
   "codemirror_mode": {
    "name": "ipython",
    "version": 3
   },
   "file_extension": ".py",
   "mimetype": "text/x-python",
   "name": "python",
   "nbconvert_exporter": "python",
   "pygments_lexer": "ipython3",
   "version": "3.11.9"
  }
 },
 "nbformat": 4,
 "nbformat_minor": 5
}
